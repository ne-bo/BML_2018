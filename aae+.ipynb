{
 "cells": [
  {
   "cell_type": "code",
   "execution_count": 1,
   "metadata": {},
   "outputs": [
    {
     "name": "stdout",
     "output_type": "stream",
     "text": [
      "Wed Oct 24 19:21:38 2018       \n",
      "+-----------------------------------------------------------------------------+\n",
      "| NVIDIA-SMI 384.111                Driver Version: 384.111                   |\n",
      "|-------------------------------+----------------------+----------------------+\n",
      "| GPU  Name        Persistence-M| Bus-Id        Disp.A | Volatile Uncorr. ECC |\n",
      "| Fan  Temp  Perf  Pwr:Usage/Cap|         Memory-Usage | GPU-Util  Compute M. |\n",
      "|===============================+======================+======================|\n",
      "|   0  GeForce GTX 108...  Off  | 00000000:01:00.0 Off |                  N/A |\n",
      "|  0%   34C    P0    49W / 275W |      0MiB / 11170MiB |      0%      Default |\n",
      "+-------------------------------+----------------------+----------------------+\n",
      "|   1  GeForce GTX 106...  Off  | 00000000:02:00.0 Off |                  N/A |\n",
      "|  0%   30C    P0    27W / 156W |      0MiB /  6072MiB |      2%      Default |\n",
      "+-------------------------------+----------------------+----------------------+\n",
      "                                                                               \n",
      "+-----------------------------------------------------------------------------+\n",
      "| Processes:                                                       GPU Memory |\n",
      "|  GPU       PID   Type   Process name                             Usage      |\n",
      "|=============================================================================|\n",
      "|  No running processes found                                                 |\n",
      "+-----------------------------------------------------------------------------+\n"
     ]
    }
   ],
   "source": [
    "!nvidia-smi"
   ]
  },
  {
   "cell_type": "code",
   "execution_count": 1,
   "metadata": {},
   "outputs": [],
   "source": [
    "import torch\n",
    "import torch.nn.functional as F\n",
    "\n",
    "from IPython.display import clear_output\n",
    "\n",
    "import matplotlib.pyplot as plt\n",
    "%matplotlib inline"
   ]
  },
  {
   "cell_type": "code",
   "execution_count": 2,
   "metadata": {},
   "outputs": [],
   "source": [
    "from networks import *"
   ]
  },
  {
   "cell_type": "code",
   "execution_count": 3,
   "metadata": {},
   "outputs": [],
   "source": [
    "from data_loader.data_loaders import MnistDataLoader"
   ]
  },
  {
   "cell_type": "code",
   "execution_count": 4,
   "metadata": {},
   "outputs": [],
   "source": [
    "code_size = 100 \n",
    "code_gen = CodeGenerator(code_size, noise_size=code_size)\n",
    "encoder = Encoder(code_size)\n",
    "decoder = Decoder(code_size)\n",
    "disc_code = CodeDiscriminator(code_size)\n",
    "disc_img = ImageDiscriminator()"
   ]
  },
  {
   "cell_type": "code",
   "execution_count": 5,
   "metadata": {},
   "outputs": [],
   "source": [
    "n_gpu_use = 1\n",
    "device = torch.device('cuda:0' if n_gpu_use > 0 else 'cpu')\n",
    "\n",
    "encoder = encoder.to(device)\n",
    "decoder = decoder.to(device)\n",
    "code_gen = code_gen.to(device)\n",
    "disc_code = disc_code.to(device)\n",
    "disc_img = disc_img.to(device)\n",
    "\n",
    "optimizer_enc = torch.optim.Adam(encoder.parameters(), lr=10e-4)\n",
    "optimizer_dec = torch.optim.Adam(decoder.parameters(), lr=10e-4)\n",
    "optimizer_disc_img = torch.optim.Adam(disc_img.parameters(), lr=10e-4)\n",
    "optimizer_disc_code = torch.optim.Adam(disc_code.parameters(), lr=10e-4)\n",
    "optimizer_code_gen = torch.optim.Adam(code_gen.parameters(), lr=10e-4)"
   ]
  },
  {
   "cell_type": "code",
   "execution_count": 6,
   "metadata": {},
   "outputs": [],
   "source": [
    "batch_size = 128\n",
    "data_loader = MnistDataLoader('mnist_data', batch_size=batch_size, shuffle=True, validation_split=0.2, num_workers=1)"
   ]
  },
  {
   "cell_type": "code",
   "execution_count": 7,
   "metadata": {},
   "outputs": [],
   "source": [
    "import torch, torchvision\n",
    "\n",
    "traindataset = torchvision.datasets.MNIST('mnist_data', transform=torchvision.transforms.Compose([torchvision.transforms.ToTensor(),\n",
    "                                                                                                  torchvision.transforms.Normalize((0.5, 0.5, 0.5), (0.5, 0.5, 0.5))]))\n",
    "data_loader = torch.utils.data.dataloader.DataLoader(traindataset, batch_size=batch_size, shuffle=True, num_workers=8)"
   ]
  },
  {
   "cell_type": "code",
   "execution_count": 8,
   "metadata": {},
   "outputs": [],
   "source": [
    "import time"
   ]
  },
  {
   "cell_type": "code",
   "execution_count": 16,
   "metadata": {},
   "outputs": [],
   "source": [
    "decoder = torch.load('aae_models/decoder')\n",
    "code_gen = torch.load('aae_models/code_gen')"
   ]
  },
  {
   "cell_type": "code",
   "execution_count": 9,
   "metadata": {},
   "outputs": [],
   "source": [
    "# optimizer_G = torch.optim.Adam([encoder.parameters(), decoder.parameters()])\n",
    "# optimizer_D = torch.optim.Adam([disc_code.parameters(), disc_img.parameters()])\n",
    "\n",
    "dec_weight = 2\n",
    "eps = 1e-10\n",
    "\n",
    "cross_entropy_loss = torch.nn.BCELoss()\n",
    "mse_loss = torch.nn.MSELoss() \n",
    "\n",
    "def train_epoch(i):\n",
    "    enc_total_loss = 0\n",
    "    dec_total_loss = 0\n",
    "    disc_code_total_loss = 0\n",
    "    disc_img_total_loss = 0\n",
    "    \n",
    "    \n",
    "    for batch_idx, (data, target) in enumerate(data_loader):\n",
    "        data, target = data.to(device), target.to(device)\n",
    "        cur_batch_size = data.shape[0]\n",
    "        # AAE phase\n",
    "        z = torch.randn((cur_batch_size, code_size)).to(device)\n",
    "        code_gen.eval() #train(False)\n",
    "        disc_img.eval() #train(False)\n",
    "        encoder.train()\n",
    "        disc_code.train()\n",
    "        decoder.train()\n",
    "        \n",
    "#         optimizer_enc.zero_grad()\n",
    "#         optimizer_disc_code.zero_grad()\n",
    "#         optimizer_dec.zero_grad()\n",
    "\n",
    "        z_code = code_gen(z)\n",
    "        data_repr = encoder(data)\n",
    "        data_rec = decoder(data_repr)\n",
    "\n",
    "        loss_rec = mse_loss(data_rec, data.detach()) #mse_loss(disc_img(data_rec)[0], disc_img(data)[0].detach()) #.fmap\n",
    "        disc_code_pred_fake = disc_code(data_repr).reshape(cur_batch_size)\n",
    "        gen_adv_loss = -torch.log(disc_code_pred_fake+eps).mean()\n",
    "        enc_loss = loss_rec + gen_adv_loss\n",
    "\n",
    "        optimizer_enc.zero_grad()        \n",
    "        enc_loss.backward(retain_graph=True)\n",
    "        optimizer_enc.step()\n",
    "        enc_total_loss += enc_loss.data.cpu().numpy().item()\n",
    "\n",
    "        if (batch_idx+1)%5==0:\n",
    "            disc_code_pred_fake = disc_code(data_repr).reshape(cur_batch_size)\n",
    "            disc_code_pred_real = disc_code(z_code).reshape(cur_batch_size)\n",
    "            disc_code_gan_loss = -2*(torch.log(disc_code_pred_real+eps) + torch.log(1-disc_code_pred_fake+eps)).mean()\n",
    "            optimizer_disc_code.zero_grad()\n",
    "            disc_code_gan_loss.backward(retain_graph=True)\n",
    "            optimizer_disc_code.step()   \n",
    "            disc_code_total_loss += disc_code_gan_loss.data.cpu().numpy().item()\n",
    "\n",
    "        dec_loss = loss_rec\n",
    "        optimizer_dec.zero_grad()\n",
    "        dec_loss.backward(retain_graph=False)\n",
    "        optimizer_dec.step()\n",
    "        dec_total_loss += dec_loss.data.cpu().numpy().item()\n",
    "        \n",
    "        \n",
    "        if i >= 0:\n",
    "            # Prior improvement phase\n",
    "            encoder.eval()\n",
    "            disc_code.eval()\n",
    "            code_gen.train()\n",
    "            disc_img.train()\n",
    "            decoder.train()        \n",
    "\n",
    "            if batch_idx==0:\n",
    "                z = torch.randn((cur_batch_size, code_size)).to(device)\n",
    "                z_code = code_gen(z)\n",
    "                x_sampled = decoder(z_code)\n",
    "                data_repr = encoder(data)\n",
    "                data_rec = decoder(data_repr)\n",
    "\n",
    "                disc_img_pred_fake = disc_img(x_sampled)[0].reshape(cur_batch_size)\n",
    "                disc_img_pred_real = disc_img(data)[0].reshape(cur_batch_size)\n",
    "                disc_img_pred_fake_ae = disc_img(data_rec)[0].reshape(cur_batch_size)\n",
    "                disc_img_gan_loss = -(torch.log(disc_img_pred_real+eps) + torch.log(1-disc_img_pred_fake+eps) + torch.log(1-disc_img_pred_fake_ae+eps)).mean()\n",
    "\n",
    "                optimizer_disc_img.zero_grad()\n",
    "                disc_img_gan_loss.backward(retain_graph=True)\n",
    "                optimizer_disc_img.step()\n",
    "                disc_img_total_loss += disc_img_gan_loss.data.cpu().numpy().item()\n",
    "                \n",
    "                z = torch.randn((cur_batch_size, code_size)).to(device)\n",
    "                z_code = code_gen(z)\n",
    "                x_sampled = decoder(z_code)\n",
    "                disc_img_pred_fake = disc_img(x_sampled)[0].reshape(cur_batch_size)\n",
    "                gen_adv_loss = -(torch.log(disc_img_pred_fake+eps)).mean()\n",
    "\n",
    "                optimizer_code_gen.zero_grad()\n",
    "                optimizer_dec.zero_grad()\n",
    "                gen_adv_loss.backward(retain_graph=False)\n",
    "                optimizer_dec.step()\n",
    "                optimizer_code_gen.step()\n",
    "\n",
    "        if batch_idx%10==0:\n",
    "            z_code = code_gen(z)\n",
    "            x_sampled = decoder(z_code)\n",
    "            clear_output(wait=True)\n",
    "            print(\"enc_total_loss:\", enc_total_loss)\n",
    "            print(\"dec_total_loss:\", dec_total_loss)\n",
    "            print(\"disc_code_total_loss:\", disc_code_total_loss)\n",
    "            print(\"disc_img_total_loss:\", disc_img_total_loss)\n",
    "            plt.imshow(((data_rec[1].data.cpu().numpy()+1)/2).reshape(28,28), cmap='gray')\n",
    "            plt.show()\n",
    "            plt.imshow(((x_sampled[1].data.cpu().numpy()+1)/2).reshape(28,28), cmap='gray')\n",
    "            plt.show()\n",
    "\n",
    "    clear_output(wait=True)\n",
    "    plt.imshow(((data_rec[1].data.cpu().numpy()+1)/2).reshape(28,28), cmap='gray')\n",
    "    plt.savefig('log_img/'+str(i)+'.png')\n",
    "    plt.show()\n",
    "    print(\"enc_total_loss:\", enc_total_loss)\n",
    "    print(\"dec_total_loss:\", dec_total_loss)\n",
    "    print(\"disc_code_total_loss:\", disc_code_total_loss)\n",
    "    print(\"disc_img_total_loss:\", disc_img_total_loss)\n",
    "    print()"
   ]
  },
  {
   "cell_type": "code",
   "execution_count": 10,
   "metadata": {},
   "outputs": [
    {
     "data": {
      "image/png": "[encoded data removed]",
      "text/plain": [
       "<Figure size 432x288 with 1 Axes>"
      ]
     },
     "metadata": {},
     "output_type": "display_data"
    },
    {
     "name": "stdout",
     "output_type": "stream",
     "text": [
      "enc_total_loss: 350.43748235702515\n",
      "dec_total_loss: 25.76398128271103\n",
      "disc_code_total_loss: 259.7655007839203\n",
      "disc_img_total_loss: 1.6670998334884644\n",
      "\n",
      "99\n"
     ]
    }
   ],
   "source": [
    "for i in range(100):\n",
    "    train_epoch(i)\n",
    "    torch.save(encoder, \"encoder\")\n",
    "    torch.save(decoder, \"decoder\")\n",
    "    torch.save(disc_code, \"disc_code\")\n",
    "    torch.save(disc_img, \"disc_img\")\n",
    "    torch.save(code_gen, \"code_gen\")\n",
    "    print(i)"
   ]
  },
  {
   "cell_type": "code",
   "execution_count": null,
   "metadata": {},
   "outputs": [],
   "source": [
    "def get_model_norm_grad(model):\n",
    "    cur_norm = 0\n",
    "    for par in model.parameters():\n",
    "        cur_norm = par.grad.norm()\n",
    "    print(model.__class__.__name__, cur_norm)\n"
   ]
  },
  {
   "cell_type": "code",
   "execution_count": 10,
   "metadata": {},
   "outputs": [],
   "source": [
    "for x, y in data_loader:\n",
    "    x_enc = encoder(x.cuda())\n",
    "    break"
   ]
  },
  {
   "cell_type": "code",
   "execution_count": 17,
   "metadata": {},
   "outputs": [
    {
     "data": {
      "image/png": "[encoded data removed]",
      "text/plain": [
       "<Figure size 1368x720 with 25 Axes>"
      ]
     },
     "metadata": {},
     "output_type": "display_data"
    }
   ],
   "source": [
    "n_rows = 5\n",
    "n_columns = 5\n",
    "f, axes = plt.subplots(n_rows, n_columns, figsize=(19, 10))\n",
    "z = (torch.randn((n_rows*n_columns, code_size))).to(device)\n",
    "z_code = code_gen(z)\n",
    "data_samples = decoder(z_code)\n",
    "\n",
    "for i in range(n_rows):\n",
    "    for j in range(n_columns):\n",
    "        axes[i][j].imshow(((data_samples[n_rows*i+j].data.cpu().numpy()+1)/2).reshape(28,28), cmap='gray')\n",
    "f.tight_layout()"
   ]
  },
  {
   "cell_type": "code",
   "execution_count": 18,
   "metadata": {},
   "outputs": [],
   "source": [
    "x_rec = decoder(x_enc[0].unsqueeze(0))"
   ]
  },
  {
   "cell_type": "code",
   "execution_count": 11,
   "metadata": {},
   "outputs": [],
   "source": [
    "for x, y in data_loader:\n",
    "    x_rec = decoder(encoder(x.cuda()))\n",
    "    break"
   ]
  },
  {
   "cell_type": "code",
   "execution_count": 22,
   "metadata": {},
   "outputs": [
    {
     "data": {
      "text/plain": [
       "tensor([[[-0.4242, -0.4242, -0.4242, -0.4242, -0.4242, -0.4242, -0.4242,\n",
       "          -0.4242, -0.4242, -0.4242, -0.4242, -0.4242, -0.4242, -0.4242,\n",
       "          -0.4242, -0.4242, -0.4242, -0.4242, -0.4242, -0.4242, -0.4242,\n",
       "          -0.4242, -0.4242, -0.4242, -0.4242, -0.4242, -0.4242, -0.4242],\n",
       "         [-0.4242, -0.4242, -0.4242, -0.4242, -0.4242, -0.4242, -0.4242,\n",
       "          -0.4242, -0.4242, -0.4242, -0.4242, -0.4242, -0.4242, -0.4242,\n",
       "          -0.4242, -0.4242, -0.4242, -0.4242, -0.4242, -0.4242, -0.4242,\n",
       "          -0.4242, -0.4242, -0.4242, -0.4242, -0.4242, -0.4242, -0.4242],\n",
       "         [-0.4242, -0.4242, -0.4242, -0.4242, -0.4242, -0.4242, -0.4242,\n",
       "          -0.4242, -0.4242, -0.4242, -0.4242, -0.4242, -0.4242, -0.4242,\n",
       "          -0.4242, -0.4242, -0.4242, -0.4242, -0.4242, -0.4242, -0.4242,\n",
       "          -0.4242, -0.4242, -0.4242, -0.4242, -0.4242, -0.4242, -0.4242],\n",
       "         [-0.4242, -0.4242, -0.4242, -0.4242, -0.4242, -0.4242, -0.4242,\n",
       "          -0.4242, -0.4242, -0.4242, -0.4242, -0.4242, -0.4242, -0.4242,\n",
       "          -0.4242, -0.4242, -0.4242, -0.4242, -0.4242, -0.4242, -0.4242,\n",
       "           1.6887,  2.6178, -0.2078, -0.4242, -0.4242, -0.4242, -0.4242],\n",
       "         [-0.4242, -0.4242, -0.4242, -0.4242, -0.4242, -0.4242, -0.4242,\n",
       "          -0.4242, -0.4242, -0.4242, -0.4242, -0.4242, -0.4242, -0.4242,\n",
       "          -0.4242, -0.4242, -0.4242, -0.4242,  0.6831,  1.9942,  1.9942,\n",
       "           2.6178,  1.0013, -0.4242, -0.4242, -0.4242, -0.4242, -0.4242],\n",
       "         [-0.4242, -0.4242, -0.4242, -0.4242, -0.4242, -0.4242, -0.4242,\n",
       "          -0.4242, -0.4242, -0.4242, -0.4242, -0.4242, -0.4242, -0.4242,\n",
       "          -0.4242, -0.4242,  0.6450,  2.1978,  2.7706,  2.7833,  2.7833,\n",
       "           1.4723, -0.4242, -0.4242, -0.4242, -0.4242, -0.4242, -0.4242],\n",
       "         [-0.4242, -0.4242, -0.4242, -0.4242, -0.4242, -0.4242, -0.4242,\n",
       "          -0.4242, -0.4242, -0.4242, -0.4242, -0.4242, -0.4242, -0.4242,\n",
       "          -0.4242, -0.0806,  2.7960,  2.7833,  2.7833,  1.9051,  0.6450,\n",
       "          -0.4242, -0.4242, -0.4242, -0.4242, -0.4242, -0.4242, -0.4242],\n",
       "         [-0.4242, -0.4242, -0.4242, -0.4242, -0.4242, -0.4242, -0.4242,\n",
       "          -0.4242, -0.4242, -0.4242, -0.4242, -0.4242, -0.4242, -0.4242,\n",
       "          -0.0806,  2.2614,  2.7960,  2.7833,  0.8868, -0.2460, -0.4242,\n",
       "          -0.4242, -0.4242, -0.4242, -0.4242, -0.4242, -0.4242, -0.4242],\n",
       "         [-0.4242, -0.4242, -0.4242, -0.4242, -0.4242, -0.4242, -0.4242,\n",
       "          -0.4242, -0.4242, -0.4242, -0.4242, -0.4242, -0.4242, -0.2587,\n",
       "           2.3505,  2.7960,  2.7197,  0.8104, -0.4242, -0.4242, -0.4242,\n",
       "          -0.4242, -0.4242, -0.4242, -0.4242, -0.4242, -0.4242, -0.4242],\n",
       "         [-0.4242, -0.4242, -0.4242, -0.4242, -0.4242, -0.4242, -0.4242,\n",
       "          -0.4242, -0.4242, -0.4242, -0.4242, -0.4242, -0.4242,  0.8613,\n",
       "           2.7833,  2.7833,  0.8104, -0.4242, -0.4242, -0.4242, -0.4242,\n",
       "          -0.4242, -0.4242, -0.4242, -0.4242, -0.4242, -0.4242, -0.4242],\n",
       "         [-0.4242, -0.4242, -0.4242, -0.4242, -0.4242, -0.4242, -0.4242,\n",
       "          -0.4242, -0.4242, -0.4242, -0.4242, -0.4242, -0.4242,  1.2941,\n",
       "           2.7833,  2.6815, -0.4242, -0.4242, -0.4242, -0.4242, -0.4242,\n",
       "          -0.4242, -0.4242, -0.4242, -0.4242, -0.4242, -0.4242, -0.4242],\n",
       "         [-0.4242, -0.4242, -0.4242, -0.4242, -0.4242, -0.4242, -0.4242,\n",
       "          -0.4242, -0.4242, -0.4242, -0.4242, -0.4242,  0.6450,  2.7069,\n",
       "           2.7833,  1.1159, -0.4242, -0.4242, -0.4242, -0.4242, -0.4242,\n",
       "          -0.4242, -0.4242, -0.4242, -0.4242, -0.4242, -0.4242, -0.4242],\n",
       "         [-0.4242, -0.4242, -0.4242, -0.4242, -0.4242, -0.4242, -0.4242,\n",
       "          -0.4242, -0.4242, -0.4242, -0.4242, -0.4242,  1.9942,  2.7833,\n",
       "           2.1087, -0.3351,  0.9377,  1.4850,  0.9250,  0.0213, -0.4242,\n",
       "          -0.4242, -0.4242, -0.4242, -0.4242, -0.4242, -0.4242, -0.4242],\n",
       "         [-0.4242, -0.4242, -0.4242, -0.4242, -0.4242, -0.4242, -0.4242,\n",
       "          -0.4242, -0.4242, -0.4242, -0.4242,  1.1414,  2.7960,  2.4142,\n",
       "           0.0213,  1.7141,  2.8215,  2.7960,  2.7960,  1.9942, -0.4242,\n",
       "          -0.4242, -0.4242, -0.4242, -0.4242, -0.4242, -0.4242, -0.4242],\n",
       "         [-0.4242, -0.4242, -0.4242, -0.4242, -0.4242, -0.4242, -0.4242,\n",
       "          -0.4242, -0.4242, -0.4242,  0.0340,  2.7960,  2.7833,  0.7341,\n",
       "           0.6450,  2.6560,  2.7960,  2.7833,  2.7833,  1.9814, -0.4242,\n",
       "          -0.4242, -0.4242, -0.4242, -0.4242, -0.4242, -0.4242, -0.4242],\n",
       "         [-0.4242, -0.4242, -0.4242, -0.4242, -0.4242, -0.4242, -0.4242,\n",
       "          -0.4242, -0.4242, -0.3478,  1.6378,  2.7960,  1.1286,  0.5304,\n",
       "           2.7069,  2.7833,  2.7960,  2.7833,  1.8669,  0.2249, -0.4242,\n",
       "          -0.4242, -0.4242, -0.4242, -0.4242, -0.4242, -0.4242, -0.4242],\n",
       "         [-0.4242, -0.4242, -0.4242, -0.4242, -0.4242, -0.4242, -0.4242,\n",
       "          -0.4242, -0.4242,  0.7341,  2.7833,  2.6687,  0.1740,  1.5232,\n",
       "           2.7833,  2.7833,  2.7960,  1.7269, -0.3351, -0.4242, -0.4242,\n",
       "          -0.4242, -0.4242, -0.4242, -0.4242, -0.4242, -0.4242, -0.4242],\n",
       "         [-0.4242, -0.4242, -0.4242, -0.4242, -0.4242, -0.4242, -0.4242,\n",
       "          -0.4242,  0.3649,  2.6178,  2.7833,  1.3577,  1.9305,  2.7451,\n",
       "           2.7833,  2.7833,  2.7960,  0.3777, -0.4242, -0.4242, -0.4242,\n",
       "          -0.4242, -0.4242, -0.4242, -0.4242, -0.4242, -0.4242, -0.4242],\n",
       "         [-0.4242, -0.4242, -0.4242, -0.4242, -0.4242, -0.4242, -0.4242,\n",
       "          -0.4242,  1.2050,  2.7960,  2.7960,  2.8088,  2.7960,  2.7960,\n",
       "           2.7960,  2.7960,  2.2742, -0.0806, -0.4242, -0.4242, -0.4242,\n",
       "          -0.4242, -0.4242, -0.4242, -0.4242, -0.4242, -0.4242, -0.4242],\n",
       "         [-0.4242, -0.4242, -0.4242, -0.4242, -0.4242, -0.4242, -0.4242,\n",
       "          -0.4242,  1.1923,  2.7833,  2.7833,  2.7960,  2.7833,  2.7833,\n",
       "           2.0705,  1.1541, -0.0806, -0.4242, -0.4242, -0.4242, -0.4242,\n",
       "          -0.4242, -0.4242, -0.4242, -0.4242, -0.4242, -0.4242, -0.4242],\n",
       "         [-0.4242, -0.4242, -0.4242, -0.4242, -0.4242, -0.4242, -0.4242,\n",
       "          -0.4242,  0.4031,  2.3378,  2.7833,  2.7960,  2.1342,  0.5049,\n",
       "          -0.3351, -0.4242, -0.4242, -0.4242, -0.4242, -0.4242, -0.4242,\n",
       "          -0.4242, -0.4242, -0.4242, -0.4242, -0.4242, -0.4242, -0.4242],\n",
       "         [-0.4242, -0.4242, -0.4242, -0.4242, -0.4242, -0.4242, -0.4242,\n",
       "          -0.4242,  0.1867,  2.7833,  2.7833,  2.1087, -0.1569, -0.4242,\n",
       "          -0.4242, -0.4242, -0.4242, -0.4242, -0.4242, -0.4242, -0.4242,\n",
       "          -0.4242, -0.4242, -0.4242, -0.4242, -0.4242, -0.4242, -0.4242],\n",
       "         [-0.4242, -0.4242, -0.4242, -0.4242, -0.4242, -0.4242, -0.4242,\n",
       "          -0.4242, -0.0424,  2.3378,  2.7833, -0.1951, -0.4242, -0.4242,\n",
       "          -0.4242, -0.4242, -0.4242, -0.4242, -0.4242, -0.4242, -0.4242,\n",
       "          -0.4242, -0.4242, -0.4242, -0.4242, -0.4242, -0.4242, -0.4242],\n",
       "         [-0.4242, -0.4242, -0.4242, -0.4242, -0.4242, -0.4242, -0.4242,\n",
       "          -0.4242, -0.4242, -0.4242, -0.4242, -0.4242, -0.4242, -0.4242,\n",
       "          -0.4242, -0.4242, -0.4242, -0.4242, -0.4242, -0.4242, -0.4242,\n",
       "          -0.4242, -0.4242, -0.4242, -0.4242, -0.4242, -0.4242, -0.4242],\n",
       "         [-0.4242, -0.4242, -0.4242, -0.4242, -0.4242, -0.4242, -0.4242,\n",
       "          -0.4242, -0.4242, -0.4242, -0.4242, -0.4242, -0.4242, -0.4242,\n",
       "          -0.4242, -0.4242, -0.4242, -0.4242, -0.4242, -0.4242, -0.4242,\n",
       "          -0.4242, -0.4242, -0.4242, -0.4242, -0.4242, -0.4242, -0.4242],\n",
       "         [-0.4242, -0.4242, -0.4242, -0.4242, -0.4242, -0.4242, -0.4242,\n",
       "          -0.4242, -0.4242, -0.4242, -0.4242, -0.4242, -0.4242, -0.4242,\n",
       "          -0.4242, -0.4242, -0.4242, -0.4242, -0.4242, -0.4242, -0.4242,\n",
       "          -0.4242, -0.4242, -0.4242, -0.4242, -0.4242, -0.4242, -0.4242],\n",
       "         [-0.4242, -0.4242, -0.4242, -0.4242, -0.4242, -0.4242, -0.4242,\n",
       "          -0.4242, -0.4242, -0.4242, -0.4242, -0.4242, -0.4242, -0.4242,\n",
       "          -0.4242, -0.4242, -0.4242, -0.4242, -0.4242, -0.4242, -0.4242,\n",
       "          -0.4242, -0.4242, -0.4242, -0.4242, -0.4242, -0.4242, -0.4242],\n",
       "         [-0.4242, -0.4242, -0.4242, -0.4242, -0.4242, -0.4242, -0.4242,\n",
       "          -0.4242, -0.4242, -0.4242, -0.4242, -0.4242, -0.4242, -0.4242,\n",
       "          -0.4242, -0.4242, -0.4242, -0.4242, -0.4242, -0.4242, -0.4242,\n",
       "          -0.4242, -0.4242, -0.4242, -0.4242, -0.4242, -0.4242, -0.4242]]])"
      ]
     },
     "execution_count": 22,
     "metadata": {},
     "output_type": "execute_result"
    }
   ],
   "source": [
    "x[0]"
   ]
  },
  {
   "cell_type": "code",
   "execution_count": 12,
   "metadata": {},
   "outputs": [
    {
     "data": {
      "text/plain": [
       "<matplotlib.image.AxesImage at 0x7fb02ec6d240>"
      ]
     },
     "execution_count": 12,
     "metadata": {},
     "output_type": "execute_result"
    },
    {
     "data": {
      "image/png": "[encoded data removed]",
      "text/plain": [
       "<Figure size 432x288 with 1 Axes>"
      ]
     },
     "metadata": {},
     "output_type": "display_data"
    }
   ],
   "source": [
    "import matplotlib.pyplot as plt\n",
    "%matplotlib inline\n",
    "plt.imshow(((x_rec[0].data.cpu().numpy()+1)/2).reshape(28, 28), cmap='gray')"
   ]
  },
  {
   "cell_type": "code",
   "execution_count": null,
   "metadata": {},
   "outputs": [],
   "source": []
  },
  {
   "cell_type": "code",
   "execution_count": 16,
   "metadata": {},
   "outputs": [
    {
     "data": {
      "text/plain": [
       "tensor(-1., device='cuda:0')"
      ]
     },
     "execution_count": 16,
     "metadata": {},
     "output_type": "execute_result"
    }
   ],
   "source": [
    "x_rec[1].min()"
   ]
  },
  {
   "cell_type": "code",
   "execution_count": 65,
   "metadata": {},
   "outputs": [
    {
     "data": {
      "text/plain": [
       "array([[-0.42421296, -0.42421296, -0.42421296, -0.42421296, -0.42421296,\n",
       "        -0.42421296, -0.42421296, -0.42421296, -0.42421296, -0.42421296,\n",
       "        -0.42421296, -0.42421296, -0.42421296, -0.42421296, -0.42421296,\n",
       "        -0.42421296, -0.42421296, -0.42421296, -0.42421296, -0.42421296,\n",
       "        -0.42421296, -0.42421296, -0.42421296, -0.42421296, -0.42421296,\n",
       "        -0.42421296, -0.42421296, -0.42421296],\n",
       "       [-0.42421296, -0.42421296, -0.42421296, -0.42421296, -0.42421296,\n",
       "        -0.42421296, -0.42421296, -0.42421296, -0.42421296, -0.42421296,\n",
       "        -0.42421296, -0.42421296, -0.42421296, -0.42421296, -0.42421296,\n",
       "        -0.42421296, -0.42421296, -0.42421296, -0.42421296, -0.42421296,\n",
       "        -0.42421296, -0.42421296, -0.42421296, -0.42421296, -0.42421296,\n",
       "        -0.42421296, -0.42421296, -0.42421296],\n",
       "       [-0.42421296, -0.42421296, -0.42421296, -0.42421296, -0.42421296,\n",
       "        -0.42421296, -0.42421296, -0.42421296, -0.42421296, -0.42421296,\n",
       "        -0.42421296, -0.42421296, -0.42421296, -0.42421296, -0.42421296,\n",
       "        -0.42421296, -0.42421296, -0.42421296, -0.42421296, -0.42421296,\n",
       "        -0.42421296, -0.42421296, -0.42421296, -0.42421296, -0.42421296,\n",
       "        -0.42421296, -0.42421296, -0.42421296],\n",
       "       [-0.42421296, -0.42421296, -0.42421296, -0.42421296, -0.42421296,\n",
       "        -0.42421296, -0.42421296, -0.42421296, -0.42421296, -0.42421296,\n",
       "        -0.42421296, -0.42421296, -0.42421296, -0.42421296, -0.42421296,\n",
       "        -0.42421296, -0.42421296, -0.42421296, -0.42421296, -0.42421296,\n",
       "        -0.42421296, -0.42421296, -0.42421296, -0.42421296, -0.42421296,\n",
       "        -0.42421296, -0.42421296, -0.42421296],\n",
       "       [-0.42421296, -0.42421296, -0.42421296, -0.42421296, -0.42421296,\n",
       "        -0.42421296, -0.42421296, -0.42421296, -0.42421296, -0.42421296,\n",
       "        -0.42421296, -0.15692005,  0.61950225,  1.523207  ,  1.2050011 ,\n",
       "         0.6831434 ,  2.5796502 ,  2.4778244 ,  0.5304046 , -0.42421296,\n",
       "        -0.42421296, -0.42421296, -0.42421296, -0.42421296, -0.42421296,\n",
       "        -0.42421296, -0.42421296, -0.42421296],\n",
       "       [-0.42421296, -0.42421296, -0.42421296, -0.42421296, -0.42421296,\n",
       "        -0.42421296, -0.42421296, -0.42421296, -0.42421296, -0.42421296,\n",
       "        -0.29693064,  2.1596186 ,  2.8087585 ,  2.8087585 ,  2.8087585 ,\n",
       "         2.8087585 ,  2.8087585 ,  2.8087585 ,  2.401455  , -0.05509418,\n",
       "        -0.42421296, -0.42421296, -0.42421296, -0.42421296, -0.42421296,\n",
       "        -0.42421296, -0.42421296, -0.42421296],\n",
       "       [-0.42421296, -0.42421296, -0.42421296, -0.42421296, -0.42421296,\n",
       "        -0.42421296, -0.42421296, -0.42421296, -0.42421296, -0.42421296,\n",
       "        -0.25874594,  2.4650962 ,  2.8087585 ,  2.8087585 ,  2.8087585 ,\n",
       "         2.8087585 ,  2.3759985 ,  2.8087585 ,  2.8087585 ,  0.30129635,\n",
       "        -0.42421296, -0.42421296, -0.42421296, -0.42421296, -0.42421296,\n",
       "        -0.42421296, -0.42421296, -0.42421296],\n",
       "       [-0.42421296, -0.42421296, -0.42421296, -0.42421296, -0.42421296,\n",
       "        -0.42421296, -0.42421296, -0.42421296, -0.42421296, -0.42421296,\n",
       "        -0.42421296,  0.8740668 ,  2.083249  ,  1.5359352 ,  0.8613386 ,\n",
       "        -0.2842024 , -0.27147415,  2.8087585 ,  2.8214867 ,  0.30129635,\n",
       "        -0.42421296, -0.42421296, -0.42421296, -0.42421296, -0.42421296,\n",
       "        -0.42421296, -0.42421296, -0.42421296],\n",
       "       [-0.42421296, -0.42421296, -0.42421296, -0.42421296, -0.42421296,\n",
       "        -0.42421296, -0.42421296, -0.42421296, -0.42421296, -0.42421296,\n",
       "        -0.42421296, -0.42421296, -0.42421296, -0.42421296, -0.42421296,\n",
       "        -0.42421296,  0.74678457,  2.8087585 ,  2.401455  , -0.30965886,\n",
       "        -0.42421296, -0.42421296, -0.42421296, -0.42421296, -0.42421296,\n",
       "        -0.42421296, -0.42421296, -0.42421296],\n",
       "       [-0.42421296, -0.42421296, -0.42421296, -0.42421296, -0.42421296,\n",
       "        -0.42421296, -0.42421296, -0.42421296, -0.42421296, -0.42421296,\n",
       "        -0.42421296, -0.42421296, -0.42421296, -0.42421296, -0.42421296,\n",
       "        -0.42421296,  1.803228  ,  2.8087585 ,  1.4341093 , -0.42421296,\n",
       "        -0.42421296, -0.42421296, -0.42421296, -0.42421296, -0.42421296,\n",
       "        -0.42421296, -0.42421296, -0.42421296],\n",
       "       [-0.42421296, -0.42421296, -0.42421296, -0.42421296, -0.42421296,\n",
       "        -0.42421296, -0.42421296, -0.42421296, -0.42421296, -0.42421296,\n",
       "        -0.42421296, -0.42421296, -0.42421296, -0.42421296, -0.20783298,\n",
       "         1.5995764 ,  2.7960303 ,  2.8087585 ,  1.103175  , -0.42421296,\n",
       "        -0.42421296, -0.42421296, -0.42421296, -0.42421296, -0.42421296,\n",
       "        -0.42421296, -0.42421296, -0.42421296],\n",
       "       [-0.42421296, -0.42421296, -0.42421296, -0.42421296, -0.42421296,\n",
       "        -0.42421296, -0.42421296, -0.42421296, -0.42421296, -0.42421296,\n",
       "        -0.20783298, -0.16964827,  0.05945994,  1.0522621 ,  2.0450644 ,\n",
       "         2.8087585 ,  2.8087585 ,  2.2996292 , -0.05509418, -0.42421296,\n",
       "        -0.42421296, -0.42421296, -0.42421296, -0.42421296, -0.42421296,\n",
       "        -0.42421296, -0.42421296, -0.42421296],\n",
       "       [-0.42421296, -0.42421296, -0.42421296, -0.42421296, -0.42421296,\n",
       "        -0.42421296, -0.42421296, -0.42421296,  0.3522093 ,  1.8414128 ,\n",
       "         2.6560197 ,  2.8087585 ,  2.8087585 ,  2.8087585 ,  2.8087585 ,\n",
       "         2.8087585 ,  2.7705739 ,  0.32675284, -0.42421296, -0.42421296,\n",
       "        -0.42421296, -0.42421296, -0.42421296, -0.42421296, -0.42421296,\n",
       "        -0.42421296, -0.42421296, -0.42421296],\n",
       "       [-0.42421296, -0.42421296, -0.42421296, -0.42421296, -0.42421296,\n",
       "        -0.42421296, -0.42421296, -0.42421296,  0.6831434 ,  2.8087585 ,\n",
       "         2.8087585 ,  2.8087585 ,  2.8087585 ,  2.8087585 ,  2.8087585 ,\n",
       "         2.8087585 ,  2.7578456 ,  0.1994705 , -0.42421296, -0.42421296,\n",
       "        -0.42421296, -0.42421296, -0.42421296, -0.42421296, -0.42421296,\n",
       "        -0.42421296, -0.42421296, -0.42421296],\n",
       "       [-0.42421296, -0.42421296, -0.42421296, -0.42421296, -0.42421296,\n",
       "        -0.42421296, -0.42421296, -0.42421296, -0.20783298,  2.6560197 ,\n",
       "         2.8087585 ,  2.8087585 ,  2.8087585 ,  2.8087585 ,  2.6942043 ,\n",
       "         2.732389  ,  2.8087585 ,  0.67041516, -0.42421296, -0.42421296,\n",
       "        -0.42421296, -0.42421296, -0.42421296, -0.42421296, -0.42421296,\n",
       "        -0.42421296, -0.42421296, -0.42421296],\n",
       "       [-0.42421296, -0.42421296, -0.42421296, -0.42421296, -0.42421296,\n",
       "        -0.42421296, -0.42421296, -0.42421296, -0.42421296,  0.18674228,\n",
       "         0.61950225,  0.61950225,  1.0777186 ,  0.61950225, -0.09327888,\n",
       "         0.98862094,  2.8087585 ,  1.0522621 , -0.42421296, -0.42421296,\n",
       "        -0.42421296, -0.42421296, -0.42421296, -0.42421296, -0.42421296,\n",
       "        -0.42421296, -0.42421296, -0.42421296],\n",
       "       [-0.42421296, -0.42421296, -0.42421296, -0.42421296, -0.42421296,\n",
       "        -0.42421296, -0.42421296, -0.42421296, -0.42421296, -0.42421296,\n",
       "        -0.42421296, -0.42421296, -0.42421296, -0.42421296, -0.42421296,\n",
       "         0.04673171,  2.7069325 ,  1.8923256 , -0.42421296, -0.42421296,\n",
       "        -0.42421296, -0.42421296, -0.42421296, -0.42421296, -0.42421296,\n",
       "        -0.42421296, -0.42421296, -0.42421296],\n",
       "       [-0.42421296, -0.42421296, -0.42421296, -0.42421296, -0.42421296,\n",
       "        -0.42421296, -0.38602826, -0.3987565 , -0.42421296, -0.42421296,\n",
       "        -0.42421296, -0.42421296, -0.42421296, -0.42421296, -0.42421296,\n",
       "        -0.42421296,  2.1468904 ,  1.9305104 , -0.41148472, -0.42421296,\n",
       "        -0.42421296, -0.42421296, -0.42421296, -0.42421296, -0.42421296,\n",
       "        -0.42421296, -0.42421296, -0.42421296],\n",
       "       [-0.42421296, -0.42421296, -0.42421296, -0.42421296, -0.42421296,\n",
       "        -0.42421296,  0.67041516,  1.7650434 , -0.15692005, -0.42421296,\n",
       "        -0.42421296, -0.42421296, -0.42421296, -0.42421296, -0.42421296,\n",
       "         0.30129635,  2.5923786 ,  2.5541937 , -0.20783298, -0.42421296,\n",
       "        -0.42421296, -0.42421296, -0.42421296, -0.42421296, -0.42421296,\n",
       "        -0.42421296, -0.42421296, -0.42421296],\n",
       "       [-0.42421296, -0.42421296, -0.42421296, -0.42421296, -0.42421296,\n",
       "        -0.42421296,  1.3450117 ,  2.8087585 ,  2.185075  , -0.16964827,\n",
       "        -0.42421296, -0.42421296, -0.42421296, -0.42421296, -0.08055065,\n",
       "         2.5032809 ,  2.8087585 ,  1.7014022 , -0.42421296, -0.42421296,\n",
       "        -0.42421296, -0.42421296, -0.42421296, -0.42421296, -0.42421296,\n",
       "        -0.42421296, -0.42421296, -0.42421296],\n",
       "       [-0.42421296, -0.42421296, -0.42421296, -0.42421296, -0.42421296,\n",
       "        -0.42421296,  0.02127524,  2.6305633 ,  2.8087585 ,  2.3887267 ,\n",
       "         1.9941516 ,  0.8740668 ,  0.64495873,  1.1795444 ,  2.5796502 ,\n",
       "         2.8087585 ,  2.8087585 ,  0.67041516, -0.42421296, -0.42421296,\n",
       "        -0.42421296, -0.42421296, -0.42421296, -0.42421296, -0.42421296,\n",
       "        -0.42421296, -0.42421296, -0.42421296],\n",
       "       [-0.42421296, -0.42421296, -0.42421296, -0.42421296, -0.42421296,\n",
       "        -0.42421296, -0.42421296,  0.6831434 ,  2.5796502 ,  2.8087585 ,\n",
       "         2.8087585 ,  2.8087585 ,  2.8087585 ,  2.8087585 ,  2.8087585 ,\n",
       "         2.8087585 ,  2.783302  ,  0.39039403, -0.42421296, -0.42421296,\n",
       "        -0.42421296, -0.42421296, -0.42421296, -0.42421296, -0.42421296,\n",
       "        -0.42421296, -0.42421296, -0.42421296],\n",
       "       [-0.42421296, -0.42421296, -0.42421296, -0.42421296, -0.42421296,\n",
       "        -0.42421296, -0.42421296, -0.42421296, -0.15692005,  1.1286315 ,\n",
       "         2.3759985 ,  2.8087585 ,  2.8087585 ,  2.8087585 ,  2.8087585 ,\n",
       "         2.2105315 ,  0.17401403, -0.42421296, -0.42421296, -0.42421296,\n",
       "        -0.42421296, -0.42421296, -0.42421296, -0.42421296, -0.42421296,\n",
       "        -0.42421296, -0.42421296, -0.42421296],\n",
       "       [-0.42421296, -0.42421296, -0.42421296, -0.42421296, -0.42421296,\n",
       "        -0.42421296, -0.42421296, -0.42421296, -0.42421296, -0.42421296,\n",
       "        -0.05509418,  0.7595128 ,  1.5868481 ,  2.5923786 ,  1.9814233 ,\n",
       "        -0.27147415, -0.42421296, -0.42421296, -0.42421296, -0.42421296,\n",
       "        -0.42421296, -0.42421296, -0.42421296, -0.42421296, -0.42421296,\n",
       "        -0.42421296, -0.42421296, -0.42421296],\n",
       "       [-0.42421296, -0.42421296, -0.42421296, -0.42421296, -0.42421296,\n",
       "        -0.42421296, -0.42421296, -0.42421296, -0.42421296, -0.42421296,\n",
       "        -0.42421296, -0.42421296, -0.42421296, -0.42421296, -0.42421296,\n",
       "        -0.42421296, -0.42421296, -0.42421296, -0.42421296, -0.42421296,\n",
       "        -0.42421296, -0.42421296, -0.42421296, -0.42421296, -0.42421296,\n",
       "        -0.42421296, -0.42421296, -0.42421296],\n",
       "       [-0.42421296, -0.42421296, -0.42421296, -0.42421296, -0.42421296,\n",
       "        -0.42421296, -0.42421296, -0.42421296, -0.42421296, -0.42421296,\n",
       "        -0.42421296, -0.42421296, -0.42421296, -0.42421296, -0.42421296,\n",
       "        -0.42421296, -0.42421296, -0.42421296, -0.42421296, -0.42421296,\n",
       "        -0.42421296, -0.42421296, -0.42421296, -0.42421296, -0.42421296,\n",
       "        -0.42421296, -0.42421296, -0.42421296],\n",
       "       [-0.42421296, -0.42421296, -0.42421296, -0.42421296, -0.42421296,\n",
       "        -0.42421296, -0.42421296, -0.42421296, -0.42421296, -0.42421296,\n",
       "        -0.42421296, -0.42421296, -0.42421296, -0.42421296, -0.42421296,\n",
       "        -0.42421296, -0.42421296, -0.42421296, -0.42421296, -0.42421296,\n",
       "        -0.42421296, -0.42421296, -0.42421296, -0.42421296, -0.42421296,\n",
       "        -0.42421296, -0.42421296, -0.42421296],\n",
       "       [-0.42421296, -0.42421296, -0.42421296, -0.42421296, -0.42421296,\n",
       "        -0.42421296, -0.42421296, -0.42421296, -0.42421296, -0.42421296,\n",
       "        -0.42421296, -0.42421296, -0.42421296, -0.42421296, -0.42421296,\n",
       "        -0.42421296, -0.42421296, -0.42421296, -0.42421296, -0.42421296,\n",
       "        -0.42421296, -0.42421296, -0.42421296, -0.42421296, -0.42421296,\n",
       "        -0.42421296, -0.42421296, -0.42421296]], dtype=float32)"
      ]
     },
     "execution_count": 65,
     "metadata": {},
     "output_type": "execute_result"
    }
   ],
   "source": [
    "x[1].data.cpu().numpy().reshape(28,28)"
   ]
  },
  {
   "cell_type": "code",
   "execution_count": 64,
   "metadata": {},
   "outputs": [
    {
     "data": {
      "text/plain": [
       "<matplotlib.image.AxesImage at 0x7f32f65dc940>"
      ]
     },
     "execution_count": 64,
     "metadata": {},
     "output_type": "execute_result"
    },
    {
     "data": {
      "image/png": "[encoded data removed]",
      "text/plain": [
       "<Figure size 432x288 with 1 Axes>"
      ]
     },
     "metadata": {},
     "output_type": "display_data"
    }
   ],
   "source": [
    "plt.imshow(x[1].data.cpu().numpy().reshape(28,28))"
   ]
  },
  {
   "cell_type": "code",
   "execution_count": 7,
   "metadata": {},
   "outputs": [],
   "source": [
    "\n",
    "\n",
    "n_gpu_use = 1\n",
    "device = torch.device('cuda:0' if n_gpu_use > 0 else 'cpu')\n",
    "\n",
    "encoder = encoder.to(device)\n",
    "decoder = decoder.to(device)\n",
    "code_gen = code_gen.to(device)\n",
    "disc_code = disc_code.to(device)\n",
    "disc_img = disc_img.to(device)\n",
    "\n",
    "dec_weight = 2\n",
    "\n",
    "cross_entropy_loss = torch.nn.CrossEntropyLoss()\n",
    "mse_loss = torch.nn.MSELoss() \n"
   ]
  },
  {
   "cell_type": "code",
   "execution_count": 10,
   "metadata": {},
   "outputs": [
    {
     "name": "stderr",
     "output_type": "stream",
     "text": [
      "/opt/conda/lib/python3.6/site-packages/torch/nn/modules/container.py:91: UserWarning: Implicit dimension choice for softmax has been deprecated. Change the call to include dim=X as an argument.\n",
      "  input = module(input)\n"
     ]
    }
   ],
   "source": [
    "for batch_idx, (data, target) in enumerate(data_loader):\n",
    "    data, target = data.to(device), target.to(device)\n",
    "\n",
    "    # AAE phase\n",
    "    z = torch.randn((batch_size, 8)).to(device)\n",
    "    code_gen.train(False)\n",
    "    disc_img.train(False)\n",
    "    encoder.train()\n",
    "    disc_code.train()\n",
    "    decoder.train()\n",
    "\n",
    "    z_code = code_gen(z)\n",
    "    data_repr = encoder(data)\n",
    "    data_rec = decoder(data_repr)\n",
    "    loss_rec = mse_loss(disc_img(data_rec)[0], disc_img(data)[0].detach()) #.fmap\n",
    "    disc_code_input = torch.cat((z_code, data_repr))\n",
    "    disc_code_pred = disc_code(disc_code_input)\n",
    "    disc_code_target = torch.cat((torch.ones(batch_size), torch.zeros(batch_size))).long().to(device)\n",
    "    break \n",
    "    disc_code_gan_loss = cross_entropy_loss(disc_code_pred, disc_code_target)\n"
   ]
  },
  {
   "cell_type": "code",
   "execution_count": 12,
   "metadata": {},
   "outputs": [
    {
     "ename": "RuntimeError",
     "evalue": "cuda runtime error (59) : device-side assert triggered at /opt/conda/conda-bld/pytorch_1524586445097/work/aten/src/THC/generic/THCTensorCopy.c:70",
     "output_type": "error",
     "traceback": [
      "\u001b[0;31m---------------------------------------------------------------------------\u001b[0m",
      "\u001b[0;31mRuntimeError\u001b[0m                              Traceback (most recent call last)",
      "\u001b[0;32m/opt/conda/lib/python3.6/site-packages/IPython/core/formatters.py\u001b[0m in \u001b[0;36m__call__\u001b[0;34m(self, obj)\u001b[0m\n\u001b[1;32m    700\u001b[0m                 \u001b[0mtype_pprinters\u001b[0m\u001b[0;34m=\u001b[0m\u001b[0mself\u001b[0m\u001b[0;34m.\u001b[0m\u001b[0mtype_printers\u001b[0m\u001b[0;34m,\u001b[0m\u001b[0;34m\u001b[0m\u001b[0m\n\u001b[1;32m    701\u001b[0m                 deferred_pprinters=self.deferred_printers)\n\u001b[0;32m--> 702\u001b[0;31m             \u001b[0mprinter\u001b[0m\u001b[0;34m.\u001b[0m\u001b[0mpretty\u001b[0m\u001b[0;34m(\u001b[0m\u001b[0mobj\u001b[0m\u001b[0;34m)\u001b[0m\u001b[0;34m\u001b[0m\u001b[0m\n\u001b[0m\u001b[1;32m    703\u001b[0m             \u001b[0mprinter\u001b[0m\u001b[0;34m.\u001b[0m\u001b[0mflush\u001b[0m\u001b[0;34m(\u001b[0m\u001b[0;34m)\u001b[0m\u001b[0;34m\u001b[0m\u001b[0m\n\u001b[1;32m    704\u001b[0m             \u001b[0;32mreturn\u001b[0m \u001b[0mstream\u001b[0m\u001b[0;34m.\u001b[0m\u001b[0mgetvalue\u001b[0m\u001b[0;34m(\u001b[0m\u001b[0;34m)\u001b[0m\u001b[0;34m\u001b[0m\u001b[0m\n",
      "\u001b[0;32m/opt/conda/lib/python3.6/site-packages/IPython/lib/pretty.py\u001b[0m in \u001b[0;36mpretty\u001b[0;34m(self, obj)\u001b[0m\n\u001b[1;32m    398\u001b[0m                         \u001b[0;32mif\u001b[0m \u001b[0mcls\u001b[0m \u001b[0;32mis\u001b[0m \u001b[0;32mnot\u001b[0m \u001b[0mobject\u001b[0m\u001b[0;31m \u001b[0m\u001b[0;31m\\\u001b[0m\u001b[0;34m\u001b[0m\u001b[0m\n\u001b[1;32m    399\u001b[0m                                 \u001b[0;32mand\u001b[0m \u001b[0mcallable\u001b[0m\u001b[0;34m(\u001b[0m\u001b[0mcls\u001b[0m\u001b[0;34m.\u001b[0m\u001b[0m__dict__\u001b[0m\u001b[0;34m.\u001b[0m\u001b[0mget\u001b[0m\u001b[0;34m(\u001b[0m\u001b[0;34m'__repr__'\u001b[0m\u001b[0;34m)\u001b[0m\u001b[0;34m)\u001b[0m\u001b[0;34m:\u001b[0m\u001b[0;34m\u001b[0m\u001b[0m\n\u001b[0;32m--> 400\u001b[0;31m                             \u001b[0;32mreturn\u001b[0m \u001b[0m_repr_pprint\u001b[0m\u001b[0;34m(\u001b[0m\u001b[0mobj\u001b[0m\u001b[0;34m,\u001b[0m \u001b[0mself\u001b[0m\u001b[0;34m,\u001b[0m \u001b[0mcycle\u001b[0m\u001b[0;34m)\u001b[0m\u001b[0;34m\u001b[0m\u001b[0m\n\u001b[0m\u001b[1;32m    401\u001b[0m \u001b[0;34m\u001b[0m\u001b[0m\n\u001b[1;32m    402\u001b[0m             \u001b[0;32mreturn\u001b[0m \u001b[0m_default_pprint\u001b[0m\u001b[0;34m(\u001b[0m\u001b[0mobj\u001b[0m\u001b[0;34m,\u001b[0m \u001b[0mself\u001b[0m\u001b[0;34m,\u001b[0m \u001b[0mcycle\u001b[0m\u001b[0;34m)\u001b[0m\u001b[0;34m\u001b[0m\u001b[0m\n",
      "\u001b[0;32m/opt/conda/lib/python3.6/site-packages/IPython/lib/pretty.py\u001b[0m in \u001b[0;36m_repr_pprint\u001b[0;34m(obj, p, cycle)\u001b[0m\n\u001b[1;32m    693\u001b[0m     \u001b[0;34m\"\"\"A pprint that just redirects to the normal repr function.\"\"\"\u001b[0m\u001b[0;34m\u001b[0m\u001b[0m\n\u001b[1;32m    694\u001b[0m     \u001b[0;31m# Find newlines and replace them with p.break_()\u001b[0m\u001b[0;34m\u001b[0m\u001b[0;34m\u001b[0m\u001b[0m\n\u001b[0;32m--> 695\u001b[0;31m     \u001b[0moutput\u001b[0m \u001b[0;34m=\u001b[0m \u001b[0mrepr\u001b[0m\u001b[0;34m(\u001b[0m\u001b[0mobj\u001b[0m\u001b[0;34m)\u001b[0m\u001b[0;34m\u001b[0m\u001b[0m\n\u001b[0m\u001b[1;32m    696\u001b[0m     \u001b[0;32mfor\u001b[0m \u001b[0midx\u001b[0m\u001b[0;34m,\u001b[0m\u001b[0moutput_line\u001b[0m \u001b[0;32min\u001b[0m \u001b[0menumerate\u001b[0m\u001b[0;34m(\u001b[0m\u001b[0moutput\u001b[0m\u001b[0;34m.\u001b[0m\u001b[0msplitlines\u001b[0m\u001b[0;34m(\u001b[0m\u001b[0;34m)\u001b[0m\u001b[0;34m)\u001b[0m\u001b[0;34m:\u001b[0m\u001b[0;34m\u001b[0m\u001b[0m\n\u001b[1;32m    697\u001b[0m         \u001b[0;32mif\u001b[0m \u001b[0midx\u001b[0m\u001b[0;34m:\u001b[0m\u001b[0;34m\u001b[0m\u001b[0m\n",
      "\u001b[0;32m/opt/conda/lib/python3.6/site-packages/torch/tensor.py\u001b[0m in \u001b[0;36m__repr__\u001b[0;34m(self)\u001b[0m\n\u001b[1;32m     55\u001b[0m         \u001b[0;31m# characters to replace unicode characters with.\u001b[0m\u001b[0;34m\u001b[0m\u001b[0;34m\u001b[0m\u001b[0m\n\u001b[1;32m     56\u001b[0m         \u001b[0;32mif\u001b[0m \u001b[0msys\u001b[0m\u001b[0;34m.\u001b[0m\u001b[0mversion_info\u001b[0m \u001b[0;34m>\u001b[0m \u001b[0;34m(\u001b[0m\u001b[0;36m3\u001b[0m\u001b[0;34m,\u001b[0m\u001b[0;34m)\u001b[0m\u001b[0;34m:\u001b[0m\u001b[0;34m\u001b[0m\u001b[0m\n\u001b[0;32m---> 57\u001b[0;31m             \u001b[0;32mreturn\u001b[0m \u001b[0mtorch\u001b[0m\u001b[0;34m.\u001b[0m\u001b[0m_tensor_str\u001b[0m\u001b[0;34m.\u001b[0m\u001b[0m_str\u001b[0m\u001b[0;34m(\u001b[0m\u001b[0mself\u001b[0m\u001b[0;34m)\u001b[0m\u001b[0;34m\u001b[0m\u001b[0m\n\u001b[0m\u001b[1;32m     58\u001b[0m         \u001b[0;32melse\u001b[0m\u001b[0;34m:\u001b[0m\u001b[0;34m\u001b[0m\u001b[0m\n\u001b[1;32m     59\u001b[0m             \u001b[0;32mif\u001b[0m \u001b[0mhasattr\u001b[0m\u001b[0;34m(\u001b[0m\u001b[0msys\u001b[0m\u001b[0;34m.\u001b[0m\u001b[0mstdout\u001b[0m\u001b[0;34m,\u001b[0m \u001b[0;34m'encoding'\u001b[0m\u001b[0;34m)\u001b[0m\u001b[0;34m:\u001b[0m\u001b[0;34m\u001b[0m\u001b[0m\n",
      "\u001b[0;32m/opt/conda/lib/python3.6/site-packages/torch/_tensor_str.py\u001b[0m in \u001b[0;36m_str\u001b[0;34m(self)\u001b[0m\n\u001b[1;32m    216\u001b[0m             \u001b[0msuffix\u001b[0m \u001b[0;34m=\u001b[0m \u001b[0;34m', dtype='\u001b[0m \u001b[0;34m+\u001b[0m \u001b[0mstr\u001b[0m\u001b[0;34m(\u001b[0m\u001b[0mself\u001b[0m\u001b[0;34m.\u001b[0m\u001b[0mdtype\u001b[0m\u001b[0;34m)\u001b[0m \u001b[0;34m+\u001b[0m \u001b[0msuffix\u001b[0m\u001b[0;34m\u001b[0m\u001b[0m\n\u001b[1;32m    217\u001b[0m \u001b[0;34m\u001b[0m\u001b[0m\n\u001b[0;32m--> 218\u001b[0;31m         \u001b[0mfmt\u001b[0m\u001b[0;34m,\u001b[0m \u001b[0mscale\u001b[0m\u001b[0;34m,\u001b[0m \u001b[0msz\u001b[0m \u001b[0;34m=\u001b[0m \u001b[0m_number_format\u001b[0m\u001b[0;34m(\u001b[0m\u001b[0mself\u001b[0m\u001b[0;34m)\u001b[0m\u001b[0;34m\u001b[0m\u001b[0m\n\u001b[0m\u001b[1;32m    219\u001b[0m         \u001b[0;32mif\u001b[0m \u001b[0mscale\u001b[0m \u001b[0;34m!=\u001b[0m \u001b[0;36m1\u001b[0m\u001b[0;34m:\u001b[0m\u001b[0;34m\u001b[0m\u001b[0m\n\u001b[1;32m    220\u001b[0m             \u001b[0mprefix\u001b[0m \u001b[0;34m=\u001b[0m \u001b[0mprefix\u001b[0m \u001b[0;34m+\u001b[0m \u001b[0mSCALE_FORMAT\u001b[0m\u001b[0;34m.\u001b[0m\u001b[0mformat\u001b[0m\u001b[0;34m(\u001b[0m\u001b[0mscale\u001b[0m\u001b[0;34m)\u001b[0m \u001b[0;34m+\u001b[0m \u001b[0;34m' '\u001b[0m \u001b[0;34m*\u001b[0m \u001b[0mindent\u001b[0m\u001b[0;34m\u001b[0m\u001b[0m\n",
      "\u001b[0;32m/opt/conda/lib/python3.6/site-packages/torch/_tensor_str.py\u001b[0m in \u001b[0;36m_number_format\u001b[0;34m(tensor, min_sz)\u001b[0m\n\u001b[1;32m     77\u001b[0m     \u001b[0m_min_log_scale\u001b[0m \u001b[0;34m=\u001b[0m \u001b[0m_get_min_log_scale\u001b[0m\u001b[0;34m(\u001b[0m\u001b[0;34m)\u001b[0m\u001b[0;34m\u001b[0m\u001b[0m\n\u001b[1;32m     78\u001b[0m     \u001b[0mmin_sz\u001b[0m \u001b[0;34m=\u001b[0m \u001b[0mmax\u001b[0m\u001b[0;34m(\u001b[0m\u001b[0mmin_sz\u001b[0m\u001b[0;34m,\u001b[0m \u001b[0;36m2\u001b[0m\u001b[0;34m)\u001b[0m\u001b[0;34m\u001b[0m\u001b[0m\n\u001b[0;32m---> 79\u001b[0;31m     \u001b[0mtensor\u001b[0m \u001b[0;34m=\u001b[0m \u001b[0mtorch\u001b[0m\u001b[0;34m.\u001b[0m\u001b[0mDoubleTensor\u001b[0m\u001b[0;34m(\u001b[0m\u001b[0mtensor\u001b[0m\u001b[0;34m.\u001b[0m\u001b[0msize\u001b[0m\u001b[0;34m(\u001b[0m\u001b[0;34m)\u001b[0m\u001b[0;34m)\u001b[0m\u001b[0;34m.\u001b[0m\u001b[0mcopy_\u001b[0m\u001b[0;34m(\u001b[0m\u001b[0mtensor\u001b[0m\u001b[0;34m)\u001b[0m\u001b[0;34m.\u001b[0m\u001b[0mabs_\u001b[0m\u001b[0;34m(\u001b[0m\u001b[0;34m)\u001b[0m\u001b[0;34m.\u001b[0m\u001b[0mview\u001b[0m\u001b[0;34m(\u001b[0m\u001b[0mtensor\u001b[0m\u001b[0;34m.\u001b[0m\u001b[0mnelement\u001b[0m\u001b[0;34m(\u001b[0m\u001b[0;34m)\u001b[0m\u001b[0;34m)\u001b[0m\u001b[0;34m\u001b[0m\u001b[0m\n\u001b[0m\u001b[1;32m     80\u001b[0m \u001b[0;34m\u001b[0m\u001b[0m\n\u001b[1;32m     81\u001b[0m     \u001b[0mpos_inf_mask\u001b[0m \u001b[0;34m=\u001b[0m \u001b[0mtensor\u001b[0m\u001b[0;34m.\u001b[0m\u001b[0meq\u001b[0m\u001b[0;34m(\u001b[0m\u001b[0mfloat\u001b[0m\u001b[0;34m(\u001b[0m\u001b[0;34m'inf'\u001b[0m\u001b[0;34m)\u001b[0m\u001b[0;34m)\u001b[0m\u001b[0;34m\u001b[0m\u001b[0m\n",
      "\u001b[0;31mRuntimeError\u001b[0m: cuda runtime error (59) : device-side assert triggered at /opt/conda/conda-bld/pytorch_1524586445097/work/aten/src/THC/generic/THCTensorCopy.c:70"
     ]
    }
   ],
   "source": [
    "cross_entropy_loss(disc_code_pred, disc_code_target)"
   ]
  },
  {
   "cell_type": "code",
   "execution_count": 11,
   "metadata": {},
   "outputs": [
    {
     "name": "stderr",
     "output_type": "stream",
     "text": [
      "/opt/conda/lib/python3.6/site-packages/torch/nn/modules/container.py:91: UserWarning: Implicit dimension choice for softmax has been deprecated. Change the call to include dim=X as an argument.\n",
      "  input = module(input)\n"
     ]
    },
    {
     "data": {
      "text/plain": [
       "tensor([[[[ 0.4957]]],\n",
       "\n",
       "\n",
       "        [[[ 0.4957]]],\n",
       "\n",
       "\n",
       "        [[[ 0.4957]]],\n",
       "\n",
       "\n",
       "        [[[ 0.4957]]],\n",
       "\n",
       "\n",
       "        [[[ 0.4957]]],\n",
       "\n",
       "\n",
       "        [[[ 0.4957]]],\n",
       "\n",
       "\n",
       "        [[[ 0.4957]]],\n",
       "\n",
       "\n",
       "        [[[ 0.4957]]]], device='cuda:0')"
      ]
     },
     "execution_count": 11,
     "metadata": {},
     "output_type": "execute_result"
    }
   ],
   "source": [
    "disc_img(data_rec)[0]"
   ]
  },
  {
   "cell_type": "code",
   "execution_count": 13,
   "metadata": {},
   "outputs": [
    {
     "ename": "RuntimeError",
     "evalue": "cuda runtime error (59) : device-side assert triggered at /opt/conda/conda-bld/pytorch_1524586445097/work/aten/src/THC/generic/THCTensorCopy.c:70",
     "output_type": "error",
     "traceback": [
      "\u001b[0;31m---------------------------------------------------------------------------\u001b[0m",
      "\u001b[0;31mRuntimeError\u001b[0m                              Traceback (most recent call last)",
      "\u001b[0;32m/opt/conda/lib/python3.6/site-packages/IPython/core/formatters.py\u001b[0m in \u001b[0;36m__call__\u001b[0;34m(self, obj)\u001b[0m\n\u001b[1;32m    700\u001b[0m                 \u001b[0mtype_pprinters\u001b[0m\u001b[0;34m=\u001b[0m\u001b[0mself\u001b[0m\u001b[0;34m.\u001b[0m\u001b[0mtype_printers\u001b[0m\u001b[0;34m,\u001b[0m\u001b[0;34m\u001b[0m\u001b[0m\n\u001b[1;32m    701\u001b[0m                 deferred_pprinters=self.deferred_printers)\n\u001b[0;32m--> 702\u001b[0;31m             \u001b[0mprinter\u001b[0m\u001b[0;34m.\u001b[0m\u001b[0mpretty\u001b[0m\u001b[0;34m(\u001b[0m\u001b[0mobj\u001b[0m\u001b[0;34m)\u001b[0m\u001b[0;34m\u001b[0m\u001b[0m\n\u001b[0m\u001b[1;32m    703\u001b[0m             \u001b[0mprinter\u001b[0m\u001b[0;34m.\u001b[0m\u001b[0mflush\u001b[0m\u001b[0;34m(\u001b[0m\u001b[0;34m)\u001b[0m\u001b[0;34m\u001b[0m\u001b[0m\n\u001b[1;32m    704\u001b[0m             \u001b[0;32mreturn\u001b[0m \u001b[0mstream\u001b[0m\u001b[0;34m.\u001b[0m\u001b[0mgetvalue\u001b[0m\u001b[0;34m(\u001b[0m\u001b[0;34m)\u001b[0m\u001b[0;34m\u001b[0m\u001b[0m\n",
      "\u001b[0;32m/opt/conda/lib/python3.6/site-packages/IPython/lib/pretty.py\u001b[0m in \u001b[0;36mpretty\u001b[0;34m(self, obj)\u001b[0m\n\u001b[1;32m    398\u001b[0m                         \u001b[0;32mif\u001b[0m \u001b[0mcls\u001b[0m \u001b[0;32mis\u001b[0m \u001b[0;32mnot\u001b[0m \u001b[0mobject\u001b[0m\u001b[0;31m \u001b[0m\u001b[0;31m\\\u001b[0m\u001b[0;34m\u001b[0m\u001b[0m\n\u001b[1;32m    399\u001b[0m                                 \u001b[0;32mand\u001b[0m \u001b[0mcallable\u001b[0m\u001b[0;34m(\u001b[0m\u001b[0mcls\u001b[0m\u001b[0;34m.\u001b[0m\u001b[0m__dict__\u001b[0m\u001b[0;34m.\u001b[0m\u001b[0mget\u001b[0m\u001b[0;34m(\u001b[0m\u001b[0;34m'__repr__'\u001b[0m\u001b[0;34m)\u001b[0m\u001b[0;34m)\u001b[0m\u001b[0;34m:\u001b[0m\u001b[0;34m\u001b[0m\u001b[0m\n\u001b[0;32m--> 400\u001b[0;31m                             \u001b[0;32mreturn\u001b[0m \u001b[0m_repr_pprint\u001b[0m\u001b[0;34m(\u001b[0m\u001b[0mobj\u001b[0m\u001b[0;34m,\u001b[0m \u001b[0mself\u001b[0m\u001b[0;34m,\u001b[0m \u001b[0mcycle\u001b[0m\u001b[0;34m)\u001b[0m\u001b[0;34m\u001b[0m\u001b[0m\n\u001b[0m\u001b[1;32m    401\u001b[0m \u001b[0;34m\u001b[0m\u001b[0m\n\u001b[1;32m    402\u001b[0m             \u001b[0;32mreturn\u001b[0m \u001b[0m_default_pprint\u001b[0m\u001b[0;34m(\u001b[0m\u001b[0mobj\u001b[0m\u001b[0;34m,\u001b[0m \u001b[0mself\u001b[0m\u001b[0;34m,\u001b[0m \u001b[0mcycle\u001b[0m\u001b[0;34m)\u001b[0m\u001b[0;34m\u001b[0m\u001b[0m\n",
      "\u001b[0;32m/opt/conda/lib/python3.6/site-packages/IPython/lib/pretty.py\u001b[0m in \u001b[0;36m_repr_pprint\u001b[0;34m(obj, p, cycle)\u001b[0m\n\u001b[1;32m    693\u001b[0m     \u001b[0;34m\"\"\"A pprint that just redirects to the normal repr function.\"\"\"\u001b[0m\u001b[0;34m\u001b[0m\u001b[0m\n\u001b[1;32m    694\u001b[0m     \u001b[0;31m# Find newlines and replace them with p.break_()\u001b[0m\u001b[0;34m\u001b[0m\u001b[0;34m\u001b[0m\u001b[0m\n\u001b[0;32m--> 695\u001b[0;31m     \u001b[0moutput\u001b[0m \u001b[0;34m=\u001b[0m \u001b[0mrepr\u001b[0m\u001b[0;34m(\u001b[0m\u001b[0mobj\u001b[0m\u001b[0;34m)\u001b[0m\u001b[0;34m\u001b[0m\u001b[0m\n\u001b[0m\u001b[1;32m    696\u001b[0m     \u001b[0;32mfor\u001b[0m \u001b[0midx\u001b[0m\u001b[0;34m,\u001b[0m\u001b[0moutput_line\u001b[0m \u001b[0;32min\u001b[0m \u001b[0menumerate\u001b[0m\u001b[0;34m(\u001b[0m\u001b[0moutput\u001b[0m\u001b[0;34m.\u001b[0m\u001b[0msplitlines\u001b[0m\u001b[0;34m(\u001b[0m\u001b[0;34m)\u001b[0m\u001b[0;34m)\u001b[0m\u001b[0;34m:\u001b[0m\u001b[0;34m\u001b[0m\u001b[0m\n\u001b[1;32m    697\u001b[0m         \u001b[0;32mif\u001b[0m \u001b[0midx\u001b[0m\u001b[0;34m:\u001b[0m\u001b[0;34m\u001b[0m\u001b[0m\n",
      "\u001b[0;32m/opt/conda/lib/python3.6/site-packages/torch/tensor.py\u001b[0m in \u001b[0;36m__repr__\u001b[0;34m(self)\u001b[0m\n\u001b[1;32m     55\u001b[0m         \u001b[0;31m# characters to replace unicode characters with.\u001b[0m\u001b[0;34m\u001b[0m\u001b[0;34m\u001b[0m\u001b[0m\n\u001b[1;32m     56\u001b[0m         \u001b[0;32mif\u001b[0m \u001b[0msys\u001b[0m\u001b[0;34m.\u001b[0m\u001b[0mversion_info\u001b[0m \u001b[0;34m>\u001b[0m \u001b[0;34m(\u001b[0m\u001b[0;36m3\u001b[0m\u001b[0;34m,\u001b[0m\u001b[0;34m)\u001b[0m\u001b[0;34m:\u001b[0m\u001b[0;34m\u001b[0m\u001b[0m\n\u001b[0;32m---> 57\u001b[0;31m             \u001b[0;32mreturn\u001b[0m \u001b[0mtorch\u001b[0m\u001b[0;34m.\u001b[0m\u001b[0m_tensor_str\u001b[0m\u001b[0;34m.\u001b[0m\u001b[0m_str\u001b[0m\u001b[0;34m(\u001b[0m\u001b[0mself\u001b[0m\u001b[0;34m)\u001b[0m\u001b[0;34m\u001b[0m\u001b[0m\n\u001b[0m\u001b[1;32m     58\u001b[0m         \u001b[0;32melse\u001b[0m\u001b[0;34m:\u001b[0m\u001b[0;34m\u001b[0m\u001b[0m\n\u001b[1;32m     59\u001b[0m             \u001b[0;32mif\u001b[0m \u001b[0mhasattr\u001b[0m\u001b[0;34m(\u001b[0m\u001b[0msys\u001b[0m\u001b[0;34m.\u001b[0m\u001b[0mstdout\u001b[0m\u001b[0;34m,\u001b[0m \u001b[0;34m'encoding'\u001b[0m\u001b[0;34m)\u001b[0m\u001b[0;34m:\u001b[0m\u001b[0;34m\u001b[0m\u001b[0m\n",
      "\u001b[0;32m/opt/conda/lib/python3.6/site-packages/torch/_tensor_str.py\u001b[0m in \u001b[0;36m_str\u001b[0;34m(self)\u001b[0m\n\u001b[1;32m    216\u001b[0m             \u001b[0msuffix\u001b[0m \u001b[0;34m=\u001b[0m \u001b[0;34m', dtype='\u001b[0m \u001b[0;34m+\u001b[0m \u001b[0mstr\u001b[0m\u001b[0;34m(\u001b[0m\u001b[0mself\u001b[0m\u001b[0;34m.\u001b[0m\u001b[0mdtype\u001b[0m\u001b[0;34m)\u001b[0m \u001b[0;34m+\u001b[0m \u001b[0msuffix\u001b[0m\u001b[0;34m\u001b[0m\u001b[0m\n\u001b[1;32m    217\u001b[0m \u001b[0;34m\u001b[0m\u001b[0m\n\u001b[0;32m--> 218\u001b[0;31m         \u001b[0mfmt\u001b[0m\u001b[0;34m,\u001b[0m \u001b[0mscale\u001b[0m\u001b[0;34m,\u001b[0m \u001b[0msz\u001b[0m \u001b[0;34m=\u001b[0m \u001b[0m_number_format\u001b[0m\u001b[0;34m(\u001b[0m\u001b[0mself\u001b[0m\u001b[0;34m)\u001b[0m\u001b[0;34m\u001b[0m\u001b[0m\n\u001b[0m\u001b[1;32m    219\u001b[0m         \u001b[0;32mif\u001b[0m \u001b[0mscale\u001b[0m \u001b[0;34m!=\u001b[0m \u001b[0;36m1\u001b[0m\u001b[0;34m:\u001b[0m\u001b[0;34m\u001b[0m\u001b[0m\n\u001b[1;32m    220\u001b[0m             \u001b[0mprefix\u001b[0m \u001b[0;34m=\u001b[0m \u001b[0mprefix\u001b[0m \u001b[0;34m+\u001b[0m \u001b[0mSCALE_FORMAT\u001b[0m\u001b[0;34m.\u001b[0m\u001b[0mformat\u001b[0m\u001b[0;34m(\u001b[0m\u001b[0mscale\u001b[0m\u001b[0;34m)\u001b[0m \u001b[0;34m+\u001b[0m \u001b[0;34m' '\u001b[0m \u001b[0;34m*\u001b[0m \u001b[0mindent\u001b[0m\u001b[0;34m\u001b[0m\u001b[0m\n",
      "\u001b[0;32m/opt/conda/lib/python3.6/site-packages/torch/_tensor_str.py\u001b[0m in \u001b[0;36m_number_format\u001b[0;34m(tensor, min_sz)\u001b[0m\n\u001b[1;32m     77\u001b[0m     \u001b[0m_min_log_scale\u001b[0m \u001b[0;34m=\u001b[0m \u001b[0m_get_min_log_scale\u001b[0m\u001b[0;34m(\u001b[0m\u001b[0;34m)\u001b[0m\u001b[0;34m\u001b[0m\u001b[0m\n\u001b[1;32m     78\u001b[0m     \u001b[0mmin_sz\u001b[0m \u001b[0;34m=\u001b[0m \u001b[0mmax\u001b[0m\u001b[0;34m(\u001b[0m\u001b[0mmin_sz\u001b[0m\u001b[0;34m,\u001b[0m \u001b[0;36m2\u001b[0m\u001b[0;34m)\u001b[0m\u001b[0;34m\u001b[0m\u001b[0m\n\u001b[0;32m---> 79\u001b[0;31m     \u001b[0mtensor\u001b[0m \u001b[0;34m=\u001b[0m \u001b[0mtorch\u001b[0m\u001b[0;34m.\u001b[0m\u001b[0mDoubleTensor\u001b[0m\u001b[0;34m(\u001b[0m\u001b[0mtensor\u001b[0m\u001b[0;34m.\u001b[0m\u001b[0msize\u001b[0m\u001b[0;34m(\u001b[0m\u001b[0;34m)\u001b[0m\u001b[0;34m)\u001b[0m\u001b[0;34m.\u001b[0m\u001b[0mcopy_\u001b[0m\u001b[0;34m(\u001b[0m\u001b[0mtensor\u001b[0m\u001b[0;34m)\u001b[0m\u001b[0;34m.\u001b[0m\u001b[0mabs_\u001b[0m\u001b[0;34m(\u001b[0m\u001b[0;34m)\u001b[0m\u001b[0;34m.\u001b[0m\u001b[0mview\u001b[0m\u001b[0;34m(\u001b[0m\u001b[0mtensor\u001b[0m\u001b[0;34m.\u001b[0m\u001b[0mnelement\u001b[0m\u001b[0;34m(\u001b[0m\u001b[0;34m)\u001b[0m\u001b[0;34m)\u001b[0m\u001b[0;34m\u001b[0m\u001b[0m\n\u001b[0m\u001b[1;32m     80\u001b[0m \u001b[0;34m\u001b[0m\u001b[0m\n\u001b[1;32m     81\u001b[0m     \u001b[0mpos_inf_mask\u001b[0m \u001b[0;34m=\u001b[0m \u001b[0mtensor\u001b[0m\u001b[0;34m.\u001b[0m\u001b[0meq\u001b[0m\u001b[0;34m(\u001b[0m\u001b[0mfloat\u001b[0m\u001b[0;34m(\u001b[0m\u001b[0;34m'inf'\u001b[0m\u001b[0;34m)\u001b[0m\u001b[0;34m)\u001b[0m\u001b[0;34m\u001b[0m\u001b[0m\n",
      "\u001b[0;31mRuntimeError\u001b[0m: cuda runtime error (59) : device-side assert triggered at /opt/conda/conda-bld/pytorch_1524586445097/work/aten/src/THC/generic/THCTensorCopy.c:70"
     ]
    }
   ],
   "source": [
    "cross_entropy_loss(disc_code_pred, disc_code_target.long())"
   ]
  },
  {
   "cell_type": "code",
   "execution_count": 14,
   "metadata": {},
   "outputs": [],
   "source": [
    "loss_rec.backward()"
   ]
  },
  {
   "cell_type": "code",
   "execution_count": null,
   "metadata": {},
   "outputs": [],
   "source": []
  }
 ],
 "metadata": {
  "kernelspec": {
   "display_name": "Python 3",
   "language": "python",
   "name": "python3"
  },
  "language_info": {
   "codemirror_mode": {
    "name": "ipython",
    "version": 3
   },
   "file_extension": ".py",
   "mimetype": "text/x-python",
   "name": "python",
   "nbconvert_exporter": "python",
   "pygments_lexer": "ipython3",
   "version": "3.6.5"
  }
 },
 "nbformat": 4,
 "nbformat_minor": 2
}
