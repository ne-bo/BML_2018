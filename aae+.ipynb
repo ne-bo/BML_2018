{
 "cells": [
  {
   "cell_type": "code",
   "execution_count": 2,
   "metadata": {},
   "outputs": [],
   "source": [
    "import torch\n",
    "import torch.nn.functional as F"
   ]
  },
  {
   "cell_type": "code",
   "execution_count": 3,
   "metadata": {},
   "outputs": [
    {
     "data": {
      "text/plain": [
       "MSELoss()"
      ]
     },
     "execution_count": 3,
     "metadata": {},
     "output_type": "execute_result"
    }
   ],
   "source": [
    "torch.nn.MSELoss()"
   ]
  },
  {
   "cell_type": "code",
   "execution_count": 4,
   "metadata": {},
   "outputs": [
    {
     "data": {
      "text/plain": [
       "tensor([ 1.])"
      ]
     },
     "execution_count": 4,
     "metadata": {},
     "output_type": "execute_result"
    }
   ],
   "source": [
    "torch.ones(1)"
   ]
  },
  {
   "cell_type": "code",
   "execution_count": null,
   "metadata": {},
   "outputs": [],
   "source": [
    "optimizer_G = torch.optim.Adam([encoder.parameters(), decoder.parameters()])\n",
    "optimizer_D = torch.optim.Adam([disc_code.parameters(), disc_img.parameters()])\n",
    "\n",
    "\n",
    "# AAE phase\n",
    "code_gen.train(False)\n",
    "disc_img.train(False)\n",
    "encoder.train()\n",
    "disc_code.train()\n",
    "\n",
    "z_code = code_gen(z)\n",
    "data_repr = encoder(data)\n",
    "data_rec = decoder(data_repr)\n",
    "x_sampled = decoder(z_code)\n",
    "\n",
    "loss_rec = torch.nn.MSELoss(disc_img.fmap(data)-disc_img.fmap(data))\n",
    "disc_code_input = torch.cat((z_code, data_repr))\n",
    "disc_code_pred = disc_code(disc_code_input)\n",
    "disc_code_target = torch.cat((torch.ones(batch_size), torch.zeros(batch_size)))\n",
    "gan_loss_code = torch.nn.CrossEntropyLoss(disc_code_pred, disc_code_target)\n",
    "ae_loss = loss_rec - gan_loss_code\n",
    "\n",
    "\n",
    "# Prior improvement phase\n",
    "encoder.train(False)\n",
    "disc_code.train(False)\n",
    "code_gen.train()\n",
    "disc_img.train()\n",
    "\n",
    "disc_img_input = torch.cat((z_code, data_repr))\n",
    "disc_img_pred = disc_img(disc_code_input)\n",
    "disc_img_target = torch.cat((torch.ones(batch_size), torch.zeros(batch_size), torch.ones(batch_size)))\n",
    "gan_loss_img = torch.nn.CrossEntropyLoss(disc_img_pred, disc_img_target) \n",
    "\n",
    "\n",
    "def train_epoch():\n",
    "    total_loss = 0\n",
    "    total_metrics = np.zeros(len(self.metrics))\n",
    "    for batch_idx, (data, target) in enumerate(self.data_loader):\n",
    "        data, target = data.to(self.device), target.to(self.device)\n",
    "\n",
    "        self.optimizer.zero_grad()\n",
    "        output = self.model(data)\n",
    "        loss = self.loss(output, target)\n",
    "        loss.backward()\n",
    "        self.optimizer.step()\n",
    "\n",
    "        total_loss += loss.item()"
   ]
  }
 ],
 "metadata": {
  "kernelspec": {
   "display_name": "Python 3",
   "language": "python",
   "name": "python3"
  },
  "language_info": {
   "codemirror_mode": {
    "name": "ipython",
    "version": 3
   },
   "file_extension": ".py",
   "mimetype": "text/x-python",
   "name": "python",
   "nbconvert_exporter": "python",
   "pygments_lexer": "ipython3",
   "version": "3.6.5"
  }
 },
 "nbformat": 4,
 "nbformat_minor": 2
}
